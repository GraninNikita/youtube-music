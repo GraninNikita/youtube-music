{
  "nbformat": 4,
  "nbformat_minor": 0,
  "metadata": {
    "colab": {
      "name": "ymusic",
      "provenance": [],
      "authorship_tag": "ABX9TyN/G/bLe4gtYBRfTUH16lhM",
      "include_colab_link": true
    },
    "kernelspec": {
      "name": "python3",
      "display_name": "Python 3"
    }
  },
  "cells": [
    {
      "cell_type": "markdown",
      "metadata": {
        "id": "view-in-github",
        "colab_type": "text"
      },
      "source": [
        "<a href=\"https://colab.research.google.com/github/alex2844/youtube-music/blob/master/ymusic.ipynb\" target=\"_parent\"><img src=\"https://colab.research.google.com/assets/colab-badge.svg\" alt=\"Open In Colab\"/></a>"
      ]
    },
    {
      "cell_type": "code",
      "metadata": {
        "id": "QCYJlgiW5O34",
        "colab_type": "code",
        "colab": {}
      },
      "source": [
        "import os\n",
        "from google.colab import drive\n",
        "drive.mount('/content/drive')\n",
        "if not os.path.exists('/content/drive/My Drive/ymusic'):\n",
        "  os.mkdir('/content/drive/My Drive/ymusic')\n",
        "os.chdir('/content/drive/My Drive/ymusic')\n",
        "! bash <(curl 'https://raw.githubusercontent.com/alex2844/youtube-music/master/install.sh' -s)\n",
        "! python <(curl 'https://raw.githubusercontent.com/alex2844/youtube-music/master/ymusic.py' -s -N)"
      ],
      "execution_count": 0,
      "outputs": []
    }
  ]
}
